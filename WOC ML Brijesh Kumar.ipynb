{
 "cells": [
  {
   "cell_type": "markdown",
   "id": "extreme-observer",
   "metadata": {},
   "source": [
    "<img src=\"cyberlabs..jpg\" style=\"width:300px;height:300px\"/>"
   ]
  },
  {
   "cell_type": "markdown",
   "id": "provincial-direction",
   "metadata": {},
   "source": [
    "<img src=\"ml_logo.png\" style=\"width:300px;height:300px\"/>"
   ]
  },
  {
   "cell_type": "markdown",
   "id": "brutal-cholesterol",
   "metadata": {},
   "source": [
    "<img src=\"woc_logo-fullsize.png\" style=\"width:200px;height:200px\"/>"
   ]
  },
  {
   "cell_type": "markdown",
   "id": "fuzzy-geneva",
   "metadata": {},
   "source": [
    "#  ML Essentials"
   ]
  },
  {
   "cell_type": "markdown",
   "id": "wicked-deposit",
   "metadata": {},
   "source": [
    "# Exploratory Data Analysis (EDA)"
   ]
  },
  {
   "cell_type": "markdown",
   "id": "lonely-tours",
   "metadata": {},
   "source": [
    "*  Importing  libraries"
   ]
  },
  {
   "cell_type": "code",
   "execution_count": 1,
   "id": "historical-maintenance",
   "metadata": {},
   "outputs": [],
   "source": [
    "import numpy as np\n",
    "import matplotlib.pyplot as plt\n",
    "import pandas as pd"
   ]
  },
  {
   "cell_type": "markdown",
   "id": "dangerous-bronze",
   "metadata": {},
   "source": [
    "* Loading the data set"
   ]
  },
  {
   "cell_type": "code",
   "execution_count": 2,
   "id": "inappropriate-census",
   "metadata": {},
   "outputs": [],
   "source": [
    "data=pd.read_csv('kmeans_dataset.csv')     #defining a variable named as data for loaded dataset"
   ]
  },
  {
   "cell_type": "markdown",
   "id": "equivalent-dealing",
   "metadata": {},
   "source": [
    " * Basic data exploration"
   ]
  },
  {
   "cell_type": "code",
   "execution_count": 3,
   "id": "remarkable-utility",
   "metadata": {
    "scrolled": true
   },
   "outputs": [
    {
     "data": {
      "text/plain": [
       "<bound method NDFrame.head of       Hardwork     Skills   Label\n",
       "0     1.483358   6.135020  C Tier\n",
       "1    52.864104  48.897037  B Tier\n",
       "2    67.556683  19.359183  D Tier\n",
       "3    52.797684  43.650076  B Tier\n",
       "4    45.060080  74.978268  B Tier\n",
       "..         ...        ...     ...\n",
       "455  48.414533  53.807818  B Tier\n",
       "456  49.534222  54.425778  B Tier\n",
       "457  30.457458  40.396009  B Tier\n",
       "458   2.277720   5.085407  C Tier\n",
       "459  37.012233  51.093717  B Tier\n",
       "\n",
       "[460 rows x 3 columns]>"
      ]
     },
     "execution_count": 3,
     "metadata": {},
     "output_type": "execute_result"
    }
   ],
   "source": [
    "data.head                           #by deafault head function will give the 5 records each from top and bottom of dataset"
   ]
  },
  {
   "cell_type": "code",
   "execution_count": 4,
   "id": "dutch-messaging",
   "metadata": {},
   "outputs": [
    {
     "data": {
      "text/plain": [
       "(460, 3)"
      ]
     },
     "execution_count": 4,
     "metadata": {},
     "output_type": "execute_result"
    }
   ],
   "source": [
    "data.shape                                 #shape function gives the number of rows and columns present in dataset"
   ]
  },
  {
   "cell_type": "code",
   "execution_count": 5,
   "id": "bigger-entry",
   "metadata": {},
   "outputs": [
    {
     "name": "stdout",
     "output_type": "stream",
     "text": [
      "<class 'pandas.core.frame.DataFrame'>\n",
      "RangeIndex: 460 entries, 0 to 459\n",
      "Data columns (total 3 columns):\n",
      " #   Column    Non-Null Count  Dtype  \n",
      "---  ------    --------------  -----  \n",
      " 0   Hardwork  460 non-null    float64\n",
      " 1   Skills    460 non-null    float64\n",
      " 2   Label     460 non-null    object \n",
      "dtypes: float64(2), object(1)\n",
      "memory usage: 10.9+ KB\n"
     ]
    }
   ],
   "source": [
    "data.info()                                #info function gives breif information about loaded dataset"
   ]
  },
  {
   "cell_type": "code",
   "execution_count": 6,
   "id": "willing-microwave",
   "metadata": {},
   "outputs": [
    {
     "data": {
      "text/plain": [
       "Hardwork    0\n",
       "Skills      0\n",
       "Label       0\n",
       "dtype: int64"
      ]
     },
     "execution_count": 6,
     "metadata": {},
     "output_type": "execute_result"
    }
   ],
   "source": [
    "data.isnull().sum()                        #veifying if data contains any missing values"
   ]
  },
  {
   "cell_type": "code",
   "execution_count": 7,
   "id": "functioning-hacker",
   "metadata": {},
   "outputs": [
    {
     "data": {
      "text/html": [
       "<div>\n",
       "<style scoped>\n",
       "    .dataframe tbody tr th:only-of-type {\n",
       "        vertical-align: middle;\n",
       "    }\n",
       "\n",
       "    .dataframe tbody tr th {\n",
       "        vertical-align: top;\n",
       "    }\n",
       "\n",
       "    .dataframe thead th {\n",
       "        text-align: right;\n",
       "    }\n",
       "</style>\n",
       "<table border=\"1\" class=\"dataframe\">\n",
       "  <thead>\n",
       "    <tr style=\"text-align: right;\">\n",
       "      <th></th>\n",
       "      <th>Hardwork</th>\n",
       "      <th>Skills</th>\n",
       "    </tr>\n",
       "  </thead>\n",
       "  <tbody>\n",
       "    <tr>\n",
       "      <th>count</th>\n",
       "      <td>460.000000</td>\n",
       "      <td>460.000000</td>\n",
       "    </tr>\n",
       "    <tr>\n",
       "      <th>mean</th>\n",
       "      <td>47.019178</td>\n",
       "      <td>38.439590</td>\n",
       "    </tr>\n",
       "    <tr>\n",
       "      <th>std</th>\n",
       "      <td>24.895360</td>\n",
       "      <td>26.136017</td>\n",
       "    </tr>\n",
       "    <tr>\n",
       "      <th>min</th>\n",
       "      <td>0.712341</td>\n",
       "      <td>1.447058</td>\n",
       "    </tr>\n",
       "    <tr>\n",
       "      <th>25%</th>\n",
       "      <td>25.287181</td>\n",
       "      <td>13.987334</td>\n",
       "    </tr>\n",
       "    <tr>\n",
       "      <th>50%</th>\n",
       "      <td>48.519039</td>\n",
       "      <td>38.515372</td>\n",
       "    </tr>\n",
       "    <tr>\n",
       "      <th>75%</th>\n",
       "      <td>67.467031</td>\n",
       "      <td>60.161463</td>\n",
       "    </tr>\n",
       "    <tr>\n",
       "      <th>max</th>\n",
       "      <td>97.618528</td>\n",
       "      <td>95.704652</td>\n",
       "    </tr>\n",
       "  </tbody>\n",
       "</table>\n",
       "</div>"
      ],
      "text/plain": [
       "         Hardwork      Skills\n",
       "count  460.000000  460.000000\n",
       "mean    47.019178   38.439590\n",
       "std     24.895360   26.136017\n",
       "min      0.712341    1.447058\n",
       "25%     25.287181   13.987334\n",
       "50%     48.519039   38.515372\n",
       "75%     67.467031   60.161463\n",
       "max     97.618528   95.704652"
      ]
     },
     "execution_count": 7,
     "metadata": {},
     "output_type": "execute_result"
    }
   ],
   "source": [
    "data.describe()  #describe function shows different aspects of data such as minimum,maximum,mean and different percentile values"
   ]
  },
  {
   "cell_type": "code",
   "execution_count": 8,
   "id": "overhead-irish",
   "metadata": {},
   "outputs": [
    {
     "data": {
      "image/png": "[encoded data removed]",
      "text/plain": [
       "<Figure size 432x288 with 1 Axes>"
      ]
     },
     "metadata": {
      "needs_background": "light"
     },
     "output_type": "display_data"
    }
   ],
   "source": [
    "plt.scatter(data.index,data['Hardwork'])     #plotting scatter-plot representing Hardwork against index or observation No.\n",
    "plt.xlabel('Index')\n",
    "plt.ylabel(\"Hardwork\")\n",
    "plt.show()"
   ]
  },
  {
   "cell_type": "code",
   "execution_count": 9,
   "id": "internal-north",
   "metadata": {},
   "outputs": [
    {
     "data": {
      "image/png": "[encoded data removed]",
      "text/plain": [
       "<Figure size 432x288 with 1 Axes>"
      ]
     },
     "metadata": {
      "needs_background": "light"
     },
     "output_type": "display_data"
    }
   ],
   "source": [
    "plt.scatter(data.index,data['Skills'])          #plotting scatter-plot representing Skills against index or observation No.\n",
    "plt.xlabel('Index')\n",
    "plt.ylabel(\"Skills\")\n",
    "plt.show()"
   ]
  },
  {
   "cell_type": "code",
   "execution_count": 10,
   "id": "specific-playlist",
   "metadata": {},
   "outputs": [
    {
     "data": {
      "text/plain": [
       "Text(0, 0.5, 'Frequency')"
      ]
     },
     "execution_count": 10,
     "metadata": {},
     "output_type": "execute_result"
    },
    {
     "data": {
      "image/png": "[encoded data removed]",
      "text/plain": [
       "<Figure size 432x288 with 1 Axes>"
      ]
     },
     "metadata": {
      "needs_background": "light"
     },
     "output_type": "display_data"
    }
   ],
   "source": [
    "plt.hist(data['Label'])                           #plotting histogram for tier against its frequency\n",
    "plt.xlabel('Tier')\n",
    "plt.ylabel(\"Frequency\")"
   ]
  },
  {
   "cell_type": "markdown",
   "id": "deadly-magazine",
   "metadata": {},
   "source": [
    "* Handling Outliers       (outliers are observations which are very far from other data)\n"
   ]
  },
  {
   "cell_type": "code",
   "execution_count": 11,
   "id": "resistant-infrastructure",
   "metadata": {},
   "outputs": [
    {
     "data": {
      "text/plain": [
       "<AxesSubplot:>"
      ]
     },
     "execution_count": 11,
     "metadata": {},
     "output_type": "execute_result"
    },
    {
     "data": {
      "image/png": "[encoded data removed]",
      "text/plain": [
       "<Figure size 432x288 with 1 Axes>"
      ]
     },
     "metadata": {
      "needs_background": "light"
     },
     "output_type": "display_data"
    }
   ],
   "source": [
    "data.boxplot(\"Hardwork\")      #verifying if data contains outliers by plotting boxplot (conclusion:NO outliers is present)"
   ]
  },
  {
   "cell_type": "code",
   "execution_count": 12,
   "id": "nervous-investor",
   "metadata": {},
   "outputs": [
    {
     "data": {
      "text/plain": [
       "<AxesSubplot:>"
      ]
     },
     "execution_count": 12,
     "metadata": {},
     "output_type": "execute_result"
    },
    {
     "data": {
      "image/png": "[encoded data removed]",
      "text/plain": [
       "<Figure size 432x288 with 1 Axes>"
      ]
     },
     "metadata": {
      "needs_background": "light"
     },
     "output_type": "display_data"
    }
   ],
   "source": [
    "data.boxplot(\"Skills\")                   #(conclusion: NO outliers are present)"
   ]
  },
  {
   "cell_type": "markdown",
   "id": "informal-title",
   "metadata": {},
   "source": [
    " * Univariate Analysis"
   ]
  },
  {
   "cell_type": "code",
   "execution_count": 13,
   "id": "eligible-underwear",
   "metadata": {},
   "outputs": [],
   "source": [
    "data_A=data.loc[data['Label']=='A Tier']              #defining variables particularly for observations belonging to each Tier \n",
    "data_B=data.loc[data['Label']=='B Tier']              #   using .loc function\n",
    "data_C=data.loc[data['Label']=='C Tier']\n",
    "data_D=data.loc[data['Label']=='D Tier']"
   ]
  },
  {
   "cell_type": "code",
   "execution_count": 14,
   "id": "loving-anthropology",
   "metadata": {},
   "outputs": [
    {
     "data": {
      "image/png": "[encoded data removed]",
      "text/plain": [
       "<Figure size 432x288 with 1 Axes>"
      ]
     },
     "metadata": {
      "needs_background": "light"
     },
     "output_type": "display_data"
    }
   ],
   "source": [
    "plt.scatter(data_A['Hardwork'],np.zeros_like(data_A['Hardwork']),label='Tier A')\n",
    "plt.scatter(data_B['Hardwork'], np.ones_like(data_B['Hardwork']),label='Tier B')   #Color    Tier\n",
    "plt.scatter(data_C['Hardwork'],np.zeros_like(data_C['Hardwork']),label='Tier C')   #Blue      A\n",
    "plt.scatter(data_D['Hardwork'], np.ones_like(data_D['Hardwork']),label='Tier D')   #Orange    B\n",
    "plt.xlabel('Hard Work')                                                            #Green     C\n",
    "plt.ylabel('Label')                                                                #Red       D\n",
    "plt.show()                                                                  #Plotting Scatterplot univariate(Hardwork) Analysis"
   ]
  },
  {
   "cell_type": "code",
   "execution_count": 15,
   "id": "congressional-fifth",
   "metadata": {},
   "outputs": [
    {
     "data": {
      "image/png": "[encoded data removed]",
      "text/plain": [
       "<Figure size 432x288 with 1 Axes>"
      ]
     },
     "metadata": {
      "needs_background": "light"
     },
     "output_type": "display_data"
    }
   ],
   "source": [
    "plt.scatter(data_A['Skills'],np.zeros_like(data_A['Skills']),label='Tier A')#Plotting Scatterplot univariate(Skills) Analysis\n",
    "plt.scatter(data_B['Skills'], np.ones_like(data_B['Skills']),label='Tier B')           \n",
    "plt.scatter(data_C['Skills'],np.zeros_like(data_C['Skills']),label='Tier C')           \n",
    "plt.scatter(data_D['Skills'], np.ones_like(data_D['Skills']),label='Tier D')          \n",
    "plt.xlabel('Skills')                                                      \n",
    "plt.ylabel('Label')                                                     \n",
    "plt.show()      "
   ]
  },
  {
   "cell_type": "markdown",
   "id": "british-dictionary",
   "metadata": {},
   "source": [
    "* Bivariate Analysis"
   ]
  },
  {
   "cell_type": "code",
   "execution_count": 16,
   "id": "wired-duplicate",
   "metadata": {
    "scrolled": true
   },
   "outputs": [
    {
     "data": {
      "image/png": "[encoded data removed]",
      "text/plain": [
       "<Figure size 432x288 with 1 Axes>"
      ]
     },
     "metadata": {
      "needs_background": "light"
     },
     "output_type": "display_data"
    }
   ],
   "source": [
    "plt.scatter(data_A['Skills'],data_A['Hardwork'],label='Tier A')    #plotting scatter-plot representing Hardwork against Skills\n",
    "plt.scatter(data_B['Skills'],data_B['Hardwork'],label='Tier B')\n",
    "plt.scatter(data_C['Skills'],data_C['Hardwork'],label='Tier C')\n",
    "plt.scatter(data_D['Skills'],data_D['Hardwork'],label='Tier D')\n",
    "plt.xlabel('Skills')\n",
    "plt.ylabel('Hardwork')\n",
    "plt.show()"
   ]
  },
  {
   "cell_type": "markdown",
   "id": "understanding-zambia",
   "metadata": {},
   "source": [
    "<img src=\"hardwork.jpg\" style=\"width:200px;height:200px\"/>"
   ]
  },
  {
   "cell_type": "markdown",
   "id": "desperate-spectrum",
   "metadata": {},
   "source": [
    "# K-Means Clustering"
   ]
  },
  {
   "cell_type": "markdown",
   "id": "refined-persian",
   "metadata": {},
   "source": [
    "* Train Test Split"
   ]
  },
  {
   "cell_type": "code",
   "execution_count": 17,
   "id": "muslim-dominant",
   "metadata": {},
   "outputs": [],
   "source": [
    "from sklearn.model_selection import train_test_split #splitting the dataset using sklearn,(60:20:20) as training,validation,test\n",
    "\n",
    "data, data_test = train_test_split(data,test_size=0.2,train_size=0.8)\n",
    "data_train, data_valid = train_test_split(data,test_size = 0.25,train_size =0.75)"
   ]
  },
  {
   "cell_type": "code",
   "execution_count": 21,
   "id": "quiet-roller",
   "metadata": {},
   "outputs": [
    {
     "data": {
      "text/plain": [
       "<bound method NDFrame.head of       Hardwork     Skills   Label\n",
       "318  69.778129  78.891517  B Tier\n",
       "15   26.432058  45.246822  B Tier\n",
       "289   8.479659  10.615885  C Tier\n",
       "165  61.113668  22.089605  D Tier\n",
       "418   8.061725   7.110615  C Tier\n",
       "..         ...        ...     ...\n",
       "376  64.004669  64.610900  B Tier\n",
       "181  19.783604  12.709893  C Tier\n",
       "416  65.243402  65.551738  B Tier\n",
       "97   80.896978  52.258623  B Tier\n",
       "194  48.260295  52.986704  B Tier\n",
       "\n",
       "[276 rows x 3 columns]>"
      ]
     },
     "execution_count": 21,
     "metadata": {},
     "output_type": "execute_result"
    }
   ],
   "source": [
    "data_train.head"
   ]
  },
  {
   "cell_type": "code",
   "execution_count": 22,
   "id": "cultural-bulletin",
   "metadata": {},
   "outputs": [
    {
     "data": {
      "text/plain": [
       "<bound method NDFrame.head of       Hardwork     Skills   Label\n",
       "329  83.634125   7.779801  B Tier\n",
       "12   82.277096  17.079684  D Tier\n",
       "384  93.196675  80.194067  A Tier\n",
       "133  22.586215  50.960454  B Tier\n",
       "192  65.109352  17.936983  D Tier\n",
       "..         ...        ...     ...\n",
       "182  73.144729   5.863843  D Tier\n",
       "262  22.581918  39.824105  B Tier\n",
       "140  88.566226  73.762379  A Tier\n",
       "50   68.417158  23.110767  D Tier\n",
       "298  36.014758  67.870571  B Tier\n",
       "\n",
       "[92 rows x 3 columns]>"
      ]
     },
     "execution_count": 22,
     "metadata": {},
     "output_type": "execute_result"
    }
   ],
   "source": [
    "data_test.head"
   ]
  },
  {
   "cell_type": "code",
   "execution_count": 23,
   "id": "innocent-paste",
   "metadata": {},
   "outputs": [
    {
     "data": {
      "text/plain": [
       "<bound method NDFrame.head of       Hardwork     Skills   Label\n",
       "282   5.920891  13.204539  C Tier\n",
       "213  54.388575  59.693908  B Tier\n",
       "235  42.188819  35.209638  B Tier\n",
       "105  70.365734  22.735474  D Tier\n",
       "3    52.797684  43.650076  B Tier\n",
       "..         ...        ...     ...\n",
       "378  11.647646  11.192476  C Tier\n",
       "30   65.547598  19.832964  D Tier\n",
       "75   21.957008  52.768351  B Tier\n",
       "102  49.521172  74.407246  B Tier\n",
       "172  16.438624  22.281333  C Tier\n",
       "\n",
       "[92 rows x 3 columns]>"
      ]
     },
     "execution_count": 23,
     "metadata": {},
     "output_type": "execute_result"
    }
   ],
   "source": [
    "data_valid.head"
   ]
  },
  {
   "cell_type": "markdown",
   "id": "disturbed-technology",
   "metadata": {},
   "source": [
    "* Applying algorithm "
   ]
  },
  {
   "cell_type": "code",
   "execution_count": 31,
   "id": "bright-thinking",
   "metadata": {},
   "outputs": [],
   "source": [
    "from sklearn.cluster import KMeans\n",
    "%matplotlib inline"
   ]
  },
  {
   "cell_type": "code",
   "execution_count": 32,
   "id": "studied-casino",
   "metadata": {},
   "outputs": [],
   "source": [
    "sse = []                                                      #validation by sum of squared error method\n",
    "for k in range(1,10):\n",
    "    km = KMeans(n_clusters=k)\n",
    "    km.fit(data_valid[['Skills','Hardwork']])\n",
    "    sse.append(km.inertia_)"
   ]
  },
  {
   "cell_type": "code",
   "execution_count": 33,
   "id": "sticky-mineral",
   "metadata": {},
   "outputs": [
    {
     "data": {
      "text/plain": [
       "[<matplotlib.lines.Line2D at 0x12c138ecee0>]"
      ]
     },
     "execution_count": 33,
     "metadata": {},
     "output_type": "execute_result"
    },
    {
     "data": {
      "image/png": "[encoded data removed]",
      "text/plain": [
       "<Figure size 432x288 with 1 Axes>"
      ]
     },
     "metadata": {
      "needs_background": "light"
     },
     "output_type": "display_data"
    }
   ],
   "source": [
    "plt.xlabel('K')                                               #Plotting elbow plot for depicting the numbers of clusters\n",
    "plt.ylabel('Sum of squared error')                            #conclusion - number of clusters should be 4\n",
    "plt.plot(range(1,10),sse)"
   ]
  },
  {
   "cell_type": "code",
   "execution_count": 34,
   "id": "greatest-halloween",
   "metadata": {},
   "outputs": [],
   "source": [
    "km = KMeans(n_clusters=4)                                                 #declaring the number of clusters"
   ]
  },
  {
   "cell_type": "code",
   "execution_count": 35,
   "id": "verbal-point",
   "metadata": {},
   "outputs": [
    {
     "data": {
      "text/plain": [
       "KMeans(n_clusters=4)"
      ]
     },
     "execution_count": 35,
     "metadata": {},
     "output_type": "execute_result"
    }
   ],
   "source": [
    "km.fit(data_train[['Skills','Hardwork']],data_train['Label'])             #fitting  the data or training our model"
   ]
  },
  {
   "cell_type": "code",
   "execution_count": 36,
   "id": "integral-killing",
   "metadata": {},
   "outputs": [
    {
     "data": {
      "text/plain": [
       "array([[17.57983118, 69.43623915],\n",
       "       [57.90452055, 42.14308993],\n",
       "       [11.18673039, 13.83415802],\n",
       "       [74.72466624, 80.14984453]])"
      ]
     },
     "execution_count": 36,
     "metadata": {},
     "output_type": "execute_result"
    }
   ],
   "source": [
    "km.cluster_centers_                                                    #shows the cartesian coordinates of centeroid of clusters"
   ]
  },
  {
   "cell_type": "markdown",
   "id": "loved-spotlight",
   "metadata": {},
   "source": [
    "* Testing"
   ]
  },
  {
   "cell_type": "code",
   "execution_count": 37,
   "id": "objective-bosnia",
   "metadata": {},
   "outputs": [],
   "source": [
    "data_predict=km.predict(data_test[['Skills','Hardwork']])                  #predicting labels for testing dataset"
   ]
  },
  {
   "cell_type": "code",
   "execution_count": 38,
   "id": "sustained-triple",
   "metadata": {},
   "outputs": [
    {
     "data": {
      "text/plain": [
       "(92,)"
      ]
     },
     "execution_count": 38,
     "metadata": {},
     "output_type": "execute_result"
    }
   ],
   "source": [
    "data_predict.shape"
   ]
  },
  {
   "cell_type": "code",
   "execution_count": 39,
   "id": "sitting-senior",
   "metadata": {},
   "outputs": [
    {
     "data": {
      "image/png": "[encoded data removed]",
      "text/plain": [
       "<Figure size 432x288 with 1 Axes>"
      ]
     },
     "metadata": {
      "needs_background": "light"
     },
     "output_type": "display_data"
    }
   ],
   "source": [
    "plt.scatter(data_test['Skills'],data_test['Hardwork'],data_predict==0,color='red')    #plotting scatterplot for testing dataset\n",
    "plt.scatter(data_test['Skills'],data_test['Hardwork'],data_predict==1,color='blue')\n",
    "plt.scatter(data_test['Skills'],data_test['Hardwork'],data_predict==2,color='green')\n",
    "plt.scatter(data_test['Skills'],data_test['Hardwork'],data_predict==3,color='orange')\n",
    "plt.xlabel('Skills')\n",
    "plt.ylabel('Hardwork')\n",
    "plt.scatter(km.cluster_centers_[:,0],km.cluster_centers_[:,1],color='black',marker='*')\n",
    "plt.show()"
   ]
  },
  {
   "cell_type": "markdown",
   "id": "female-democrat",
   "metadata": {},
   "source": [
    "# THE END "
   ]
  }
 ],
 "metadata": {
  "kernelspec": {
   "display_name": "Python 3",
   "language": "python",
   "name": "python3"
  },
  "language_info": {
   "codemirror_mode": {
    "name": "ipython",
    "version": 3
   },
   "file_extension": ".py",
   "mimetype": "text/x-python",
   "name": "python",
   "nbconvert_exporter": "python",
   "pygments_lexer": "ipython3",
   "version": "3.9.1"
  }
 },
 "nbformat": 4,
 "nbformat_minor": 5
}
