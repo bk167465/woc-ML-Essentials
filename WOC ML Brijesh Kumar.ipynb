{
 "cells": [
  {
   "cell_type": "markdown",
   "id": "extreme-observer",
   "metadata": {},
   "source": [
    "<img src=\"cyberlabs..jpg\" style=\"width:300px;height:300px\"/>"
   ]
  },
  {
   "cell_type": "markdown",
   "id": "provincial-direction",
   "metadata": {},
   "source": [
    "<img src=\"ml_logo.png\" style=\"width:300px;height:300px\"/>"
   ]
  },
  {
   "cell_type": "markdown",
   "id": "brutal-cholesterol",
   "metadata": {},
   "source": [
    "<img src=\"woc_logo-fullsize.png\" style=\"width:200px;height:200px\"/>"
   ]
  },
  {
   "cell_type": "markdown",
   "id": "fuzzy-geneva",
   "metadata": {},
   "source": [
    "#  ML Essentials"
   ]
  },
  {
   "cell_type": "markdown",
   "id": "wicked-deposit",
   "metadata": {},
   "source": [
    "# Exploratory Data Analysis (EDA)"
   ]
  },
  {
   "cell_type": "markdown",
   "id": "lonely-tours",
   "metadata": {},
   "source": [
    "*  Importing  libraries"
   ]
  },
  {
   "cell_type": "code",
   "execution_count": 100,
   "id": "historical-maintenance",
   "metadata": {},
   "outputs": [],
   "source": [
    "import numpy as np\n",
    "import matplotlib.pyplot as plt\n",
    "import pandas as pd"
   ]
  },
  {
   "cell_type": "markdown",
   "id": "dangerous-bronze",
   "metadata": {},
   "source": [
    "* Loading the data set"
   ]
  },
  {
   "cell_type": "code",
   "execution_count": 101,
   "id": "inappropriate-census",
   "metadata": {},
   "outputs": [],
   "source": [
    "data=pd.read_csv('kmeans_dataset.csv')     #defining a variable named as data for loaded dataset"
   ]
  },
  {
   "cell_type": "markdown",
   "id": "equivalent-dealing",
   "metadata": {},
   "source": [
    " * Basic data exploration"
   ]
  },
  {
   "cell_type": "code",
   "execution_count": 102,
   "id": "remarkable-utility",
   "metadata": {
    "scrolled": true
   },
   "outputs": [
    {
     "data": {
      "text/plain": [
       "<bound method NDFrame.head of       Hardwork     Skills   Label\n",
       "0     1.483358   6.135020  C Tier\n",
       "1    52.864104  48.897037  B Tier\n",
       "2    67.556683  19.359183  D Tier\n",
       "3    52.797684  43.650076  B Tier\n",
       "4    45.060080  74.978268  B Tier\n",
       "..         ...        ...     ...\n",
       "455  48.414533  53.807818  B Tier\n",
       "456  49.534222  54.425778  B Tier\n",
       "457  30.457458  40.396009  B Tier\n",
       "458   2.277720   5.085407  C Tier\n",
       "459  37.012233  51.093717  B Tier\n",
       "\n",
       "[460 rows x 3 columns]>"
      ]
     },
     "execution_count": 102,
     "metadata": {},
     "output_type": "execute_result"
    }
   ],
   "source": [
    "data.head                           #by deafault head function will give the 5 records each from top and bottom of dataset"
   ]
  },
  {
   "cell_type": "code",
   "execution_count": 103,
   "id": "dutch-messaging",
   "metadata": {},
   "outputs": [
    {
     "data": {
      "text/plain": [
       "(460, 3)"
      ]
     },
     "execution_count": 103,
     "metadata": {},
     "output_type": "execute_result"
    }
   ],
   "source": [
    "data.shape                                 #shape function gives the number of rows and columns present in dataset"
   ]
  },
  {
   "cell_type": "code",
   "execution_count": 104,
   "id": "bigger-entry",
   "metadata": {},
   "outputs": [
    {
     "name": "stdout",
     "output_type": "stream",
     "text": [
      "<class 'pandas.core.frame.DataFrame'>\n",
      "RangeIndex: 460 entries, 0 to 459\n",
      "Data columns (total 3 columns):\n",
      " #   Column    Non-Null Count  Dtype  \n",
      "---  ------    --------------  -----  \n",
      " 0   Hardwork  460 non-null    float64\n",
      " 1   Skills    460 non-null    float64\n",
      " 2   Label     460 non-null    object \n",
      "dtypes: float64(2), object(1)\n",
      "memory usage: 10.9+ KB\n"
     ]
    }
   ],
   "source": [
    "data.info()                                #info function gives breif information about loaded dataset"
   ]
  },
  {
   "cell_type": "code",
   "execution_count": 105,
   "id": "willing-microwave",
   "metadata": {},
   "outputs": [
    {
     "data": {
      "text/plain": [
       "Hardwork    0\n",
       "Skills      0\n",
       "Label       0\n",
       "dtype: int64"
      ]
     },
     "execution_count": 105,
     "metadata": {},
     "output_type": "execute_result"
    }
   ],
   "source": [
    "data.isnull().sum()                        #veifying if data contains any missing values"
   ]
  },
  {
   "cell_type": "code",
   "execution_count": 106,
   "id": "functioning-hacker",
   "metadata": {},
   "outputs": [
    {
     "data": {
      "text/html": [
       "<div>\n",
       "<style scoped>\n",
       "    .dataframe tbody tr th:only-of-type {\n",
       "        vertical-align: middle;\n",
       "    }\n",
       "\n",
       "    .dataframe tbody tr th {\n",
       "        vertical-align: top;\n",
       "    }\n",
       "\n",
       "    .dataframe thead th {\n",
       "        text-align: right;\n",
       "    }\n",
       "</style>\n",
       "<table border=\"1\" class=\"dataframe\">\n",
       "  <thead>\n",
       "    <tr style=\"text-align: right;\">\n",
       "      <th></th>\n",
       "      <th>Hardwork</th>\n",
       "      <th>Skills</th>\n",
       "    </tr>\n",
       "  </thead>\n",
       "  <tbody>\n",
       "    <tr>\n",
       "      <th>count</th>\n",
       "      <td>460.000000</td>\n",
       "      <td>460.000000</td>\n",
       "    </tr>\n",
       "    <tr>\n",
       "      <th>mean</th>\n",
       "      <td>47.019178</td>\n",
       "      <td>38.439590</td>\n",
       "    </tr>\n",
       "    <tr>\n",
       "      <th>std</th>\n",
       "      <td>24.895360</td>\n",
       "      <td>26.136017</td>\n",
       "    </tr>\n",
       "    <tr>\n",
       "      <th>min</th>\n",
       "      <td>0.712341</td>\n",
       "      <td>1.447058</td>\n",
       "    </tr>\n",
       "    <tr>\n",
       "      <th>25%</th>\n",
       "      <td>25.287181</td>\n",
       "      <td>13.987334</td>\n",
       "    </tr>\n",
       "    <tr>\n",
       "      <th>50%</th>\n",
       "      <td>48.519039</td>\n",
       "      <td>38.515372</td>\n",
       "    </tr>\n",
       "    <tr>\n",
       "      <th>75%</th>\n",
       "      <td>67.467031</td>\n",
       "      <td>60.161463</td>\n",
       "    </tr>\n",
       "    <tr>\n",
       "      <th>max</th>\n",
       "      <td>97.618528</td>\n",
       "      <td>95.704652</td>\n",
       "    </tr>\n",
       "  </tbody>\n",
       "</table>\n",
       "</div>"
      ],
      "text/plain": [
       "         Hardwork      Skills\n",
       "count  460.000000  460.000000\n",
       "mean    47.019178   38.439590\n",
       "std     24.895360   26.136017\n",
       "min      0.712341    1.447058\n",
       "25%     25.287181   13.987334\n",
       "50%     48.519039   38.515372\n",
       "75%     67.467031   60.161463\n",
       "max     97.618528   95.704652"
      ]
     },
     "execution_count": 106,
     "metadata": {},
     "output_type": "execute_result"
    }
   ],
   "source": [
    "data.describe()  #describe function shows different aspects of data such as minimum,maximum,mean and different percentile values"
   ]
  },
  {
   "cell_type": "code",
   "execution_count": 107,
   "id": "overhead-irish",
   "metadata": {},
   "outputs": [
    {
     "data": {
      "image/png": "[encoded data removed]",
      "text/plain": [
       "<Figure size 432x288 with 1 Axes>"
      ]
     },
     "metadata": {
      "needs_background": "light"
     },
     "output_type": "display_data"
    }
   ],
   "source": [
    "plt.scatter(data.index,data['Hardwork'])     #plotting scatter-plot representing Hardwork against index or observation No.\n",
    "plt.xlabel('Index')\n",
    "plt.ylabel(\"Hardwork\")\n",
    "plt.show()"
   ]
  },
  {
   "cell_type": "code",
   "execution_count": 108,
   "id": "internal-north",
   "metadata": {},
   "outputs": [
    {
     "data": {
      "image/png": "[encoded data removed]",
      "text/plain": [
       "<Figure size 432x288 with 1 Axes>"
      ]
     },
     "metadata": {
      "needs_background": "light"
     },
     "output_type": "display_data"
    }
   ],
   "source": [
    "plt.scatter(data.index,data['Skills'])          #plotting scatter-plot representing Skills against index or observation No.\n",
    "plt.xlabel('Index')\n",
    "plt.ylabel(\"Skills\")\n",
    "plt.show()"
   ]
  },
  {
   "cell_type": "code",
   "execution_count": 109,
   "id": "specific-playlist",
   "metadata": {},
   "outputs": [
    {
     "data": {
      "text/plain": [
       "Text(0, 0.5, 'Frequency')"
      ]
     },
     "execution_count": 109,
     "metadata": {},
     "output_type": "execute_result"
    },
    {
     "data": {
      "image/png": "[encoded data removed]",
      "text/plain": [
       "<Figure size 432x288 with 1 Axes>"
      ]
     },
     "metadata": {
      "needs_background": "light"
     },
     "output_type": "display_data"
    }
   ],
   "source": [
    "plt.hist(data['Label'])                           #plotting histogram for tier against its frequency\n",
    "plt.xlabel('Tier')\n",
    "plt.ylabel(\"Frequency\")"
   ]
  },
  {
   "cell_type": "markdown",
   "id": "deadly-magazine",
   "metadata": {},
   "source": [
    "* Handling Outliers       (outliers are observations which are very far from other data)\n"
   ]
  },
  {
   "cell_type": "code",
   "execution_count": 136,
   "id": "resistant-infrastructure",
   "metadata": {},
   "outputs": [
    {
     "data": {
      "text/plain": [
       "<AxesSubplot:>"
      ]
     },
     "execution_count": 136,
     "metadata": {},
     "output_type": "execute_result"
    },
    {
     "data": {
      "image/png": "[encoded data removed]",
      "text/plain": [
       "<Figure size 432x288 with 1 Axes>"
      ]
     },
     "metadata": {
      "needs_background": "light"
     },
     "output_type": "display_data"
    }
   ],
   "source": [
    "data.boxplot(\"Hardwork\")      #verifying if data contains outliers by plotting boxplot (conclusion:NO outliers is present)"
   ]
  },
  {
   "cell_type": "code",
   "execution_count": 111,
   "id": "nervous-investor",
   "metadata": {},
   "outputs": [
    {
     "data": {
      "text/plain": [
       "<AxesSubplot:>"
      ]
     },
     "execution_count": 111,
     "metadata": {},
     "output_type": "execute_result"
    },
    {
     "data": {
      "image/png": "[encoded data removed]",
      "text/plain": [
       "<Figure size 432x288 with 1 Axes>"
      ]
     },
     "metadata": {
      "needs_background": "light"
     },
     "output_type": "display_data"
    }
   ],
   "source": [
    "data.boxplot(\"Skills\")                   #(conclusion: NO outliers are present)"
   ]
  },
  {
   "cell_type": "markdown",
   "id": "micro-layout",
   "metadata": {},
   "source": [
    "* Normalizing and Scaling"
   ]
  },
  {
   "cell_type": "code",
   "execution_count": 2,
   "id": "motivated-boutique",
   "metadata": {},
   "outputs": [],
   "source": [
    "# The variables of the data set are of same scales therefore data normalization is not required here"
   ]
  },
  {
   "cell_type": "markdown",
   "id": "informal-title",
   "metadata": {},
   "source": [
    " * Univariate Analysis"
   ]
  },
  {
   "cell_type": "code",
   "execution_count": 112,
   "id": "eligible-underwear",
   "metadata": {},
   "outputs": [],
   "source": [
    "data_A=data.loc[data['Label']=='A Tier']              #defining variables particularly for observations belonging to each Tier \n",
    "data_B=data.loc[data['Label']=='B Tier']              #   using .loc function\n",
    "data_C=data.loc[data['Label']=='C Tier']\n",
    "data_D=data.loc[data['Label']=='D Tier']"
   ]
  },
  {
   "cell_type": "code",
   "execution_count": 113,
   "id": "loving-anthropology",
   "metadata": {},
   "outputs": [
    {
     "data": {
      "image/png": "[encoded data removed]",
      "text/plain": [
       "<Figure size 432x288 with 1 Axes>"
      ]
     },
     "metadata": {
      "needs_background": "light"
     },
     "output_type": "display_data"
    }
   ],
   "source": [
    "plt.scatter(data_A['Hardwork'],np.zeros_like(data_A['Hardwork']),label='Tier A')\n",
    "plt.scatter(data_B['Hardwork'], np.ones_like(data_B['Hardwork']),label='Tier B')   #Color    Tier\n",
    "plt.scatter(data_C['Hardwork'],np.zeros_like(data_C['Hardwork']),label='Tier C')   #Blue      A\n",
    "plt.scatter(data_D['Hardwork'], np.ones_like(data_D['Hardwork']),label='Tier D')   #Orange    B\n",
    "plt.xlabel('Hard Work')                                                            #Green     C\n",
    "plt.ylabel('Label')                                                                #Red       D\n",
    "plt.show()                                                                  #Plotting Scatterplot univariate(Hardwork) Analysis"
   ]
  },
  {
   "cell_type": "code",
   "execution_count": 114,
   "id": "congressional-fifth",
   "metadata": {},
   "outputs": [
    {
     "data": {
      "image/png": "[encoded data removed]",
      "text/plain": [
       "<Figure size 432x288 with 1 Axes>"
      ]
     },
     "metadata": {
      "needs_background": "light"
     },
     "output_type": "display_data"
    }
   ],
   "source": [
    "plt.scatter(data_A['Skills'],np.zeros_like(data_A['Skills']),label='Tier A')#Plotting Scatterplot univariate(Skills) Analysis\n",
    "plt.scatter(data_B['Skills'], np.ones_like(data_B['Skills']),label='Tier B')           \n",
    "plt.scatter(data_C['Skills'],np.zeros_like(data_C['Skills']),label='Tier C')           \n",
    "plt.scatter(data_D['Skills'], np.ones_like(data_D['Skills']),label='Tier D')          \n",
    "plt.xlabel('Skills')                                                      \n",
    "plt.ylabel('Label')                                                     \n",
    "plt.show()      "
   ]
  },
  {
   "cell_type": "markdown",
   "id": "british-dictionary",
   "metadata": {},
   "source": [
    "* Bivariate Analysis"
   ]
  },
  {
   "cell_type": "code",
   "execution_count": 115,
   "id": "wired-duplicate",
   "metadata": {
    "scrolled": true
   },
   "outputs": [
    {
     "data": {
      "image/png": "[encoded data removed]",
      "text/plain": [
       "<Figure size 432x288 with 1 Axes>"
      ]
     },
     "metadata": {
      "needs_background": "light"
     },
     "output_type": "display_data"
    }
   ],
   "source": [
    "plt.scatter(data_A['Skills'],data_A['Hardwork'],label='Tier A')    #plotting scatter-plot representing Hardwork against Skills\n",
    "plt.scatter(data_B['Skills'],data_B['Hardwork'],label='Tier B')\n",
    "plt.scatter(data_C['Skills'],data_C['Hardwork'],label='Tier C')\n",
    "plt.scatter(data_D['Skills'],data_D['Hardwork'],label='Tier D')\n",
    "plt.xlabel('Skills')\n",
    "plt.ylabel('Hardwork')\n",
    "plt.show()"
   ]
  },
  {
   "cell_type": "markdown",
   "id": "understanding-zambia",
   "metadata": {},
   "source": [
    "<img src=\"hardwork.jpg\" style=\"width:200px;height:200px\"/>"
   ]
  },
  {
   "cell_type": "markdown",
   "id": "desperate-spectrum",
   "metadata": {},
   "source": [
    "# K-Means Clustering"
   ]
  },
  {
   "cell_type": "markdown",
   "id": "refined-persian",
   "metadata": {},
   "source": [
    "* Train Test Split"
   ]
  },
  {
   "cell_type": "code",
   "execution_count": 116,
   "id": "muslim-dominant",
   "metadata": {},
   "outputs": [],
   "source": [
    "from sklearn.model_selection import train_test_split #splitting the dataset using sklearn,(60:20:20) as training,validation,test\n",
    "\n",
    "data, data_test = train_test_split(data,test_size=0.2,train_size=0.8)\n",
    "data_train, data_valid = train_test_split(data,test_size = 0.25,train_size =0.75)"
   ]
  },
  {
   "cell_type": "code",
   "execution_count": 117,
   "id": "quiet-roller",
   "metadata": {},
   "outputs": [
    {
     "data": {
      "text/plain": [
       "<bound method NDFrame.head of       Hardwork     Skills   Label\n",
       "54   59.000937  16.592349  D Tier\n",
       "427  62.962990  48.911030  B Tier\n",
       "392  95.205348  81.912527  A Tier\n",
       "453  22.623823   4.288589  C Tier\n",
       "338  89.872428  78.673286  A Tier\n",
       "..         ...        ...     ...\n",
       "39   35.098665  48.657445  B Tier\n",
       "64   24.867728  35.371319  B Tier\n",
       "24   44.503135  39.595512  B Tier\n",
       "400  13.695618  18.122097  C Tier\n",
       "232  35.369218  45.298613  B Tier\n",
       "\n",
       "[276 rows x 3 columns]>"
      ]
     },
     "execution_count": 117,
     "metadata": {},
     "output_type": "execute_result"
    }
   ],
   "source": [
    "data_train.head"
   ]
  },
  {
   "cell_type": "code",
   "execution_count": 118,
   "id": "cultural-bulletin",
   "metadata": {},
   "outputs": [
    {
     "data": {
      "text/plain": [
       "<bound method NDFrame.head of       Hardwork     Skills   Label\n",
       "277  67.924454  11.873769  D Tier\n",
       "101  15.797210  15.721221  C Tier\n",
       "112  14.803757  11.518968  C Tier\n",
       "391   5.342187   7.830898  C Tier\n",
       "242   8.723537  11.821286  C Tier\n",
       "..         ...        ...     ...\n",
       "7    23.826756  56.802663  B Tier\n",
       "443  53.461534  67.800083  B Tier\n",
       "321  37.894186  72.425093  B Tier\n",
       "26   45.296165  66.873110  B Tier\n",
       "279  72.121733  16.482607  D Tier\n",
       "\n",
       "[92 rows x 3 columns]>"
      ]
     },
     "execution_count": 118,
     "metadata": {},
     "output_type": "execute_result"
    }
   ],
   "source": [
    "data_test.head"
   ]
  },
  {
   "cell_type": "code",
   "execution_count": 119,
   "id": "innocent-paste",
   "metadata": {},
   "outputs": [
    {
     "data": {
      "text/plain": [
       "<bound method NDFrame.head of       Hardwork     Skills   Label\n",
       "57   11.010126  25.607435  C Tier\n",
       "124  65.870732  58.684559  B Tier\n",
       "102  49.521172  74.407246  B Tier\n",
       "378  11.647646  11.192476  C Tier\n",
       "47   84.307034  12.911185  D Tier\n",
       "..         ...        ...     ...\n",
       "312  63.958129  14.720111  D Tier\n",
       "340  20.569530   4.155890  C Tier\n",
       "161  13.464391  10.770659  C Tier\n",
       "122  84.274551  84.399103  A Tier\n",
       "172  16.438624  22.281333  C Tier\n",
       "\n",
       "[92 rows x 3 columns]>"
      ]
     },
     "execution_count": 119,
     "metadata": {},
     "output_type": "execute_result"
    }
   ],
   "source": [
    "data_valid.head"
   ]
  },
  {
   "cell_type": "markdown",
   "id": "disturbed-technology",
   "metadata": {},
   "source": [
    "* Applying algorithm "
   ]
  },
  {
   "cell_type": "code",
   "execution_count": 120,
   "id": "bright-thinking",
   "metadata": {},
   "outputs": [],
   "source": [
    "from sklearn.cluster import KMeans\n",
    "%matplotlib inline"
   ]
  },
  {
   "cell_type": "code",
   "execution_count": 121,
   "id": "studied-casino",
   "metadata": {},
   "outputs": [],
   "source": [
    "sse = []                                                      #validation by sum of squared error method\n",
    "for k in range(1,10):\n",
    "    km = KMeans(n_clusters=k)\n",
    "    km.fit(data_valid[['Skills','Hardwork']])\n",
    "    sse.append(km.inertia_)"
   ]
  },
  {
   "cell_type": "code",
   "execution_count": 122,
   "id": "sticky-mineral",
   "metadata": {},
   "outputs": [
    {
     "data": {
      "text/plain": [
       "[<matplotlib.lines.Line2D at 0x12c15000130>]"
      ]
     },
     "execution_count": 122,
     "metadata": {},
     "output_type": "execute_result"
    },
    {
     "data": {
      "image/png": "[encoded data removed]",
      "text/plain": [
       "<Figure size 432x288 with 1 Axes>"
      ]
     },
     "metadata": {
      "needs_background": "light"
     },
     "output_type": "display_data"
    }
   ],
   "source": [
    "plt.xlabel('K')                                               #Plotting elbow plot for depicting the numbers of clusters\n",
    "plt.ylabel('Sum of squared error')                            #conclusion - number of clusters should be 4\n",
    "plt.plot(range(1,10),sse)"
   ]
  },
  {
   "cell_type": "code",
   "execution_count": 123,
   "id": "greatest-halloween",
   "metadata": {},
   "outputs": [],
   "source": [
    "km = KMeans(n_clusters=4)                                                 #declaring the number of clusters"
   ]
  },
  {
   "cell_type": "code",
   "execution_count": 124,
   "id": "verbal-point",
   "metadata": {},
   "outputs": [
    {
     "data": {
      "text/plain": [
       "KMeans(n_clusters=4)"
      ]
     },
     "execution_count": 124,
     "metadata": {},
     "output_type": "execute_result"
    }
   ],
   "source": [
    "km.fit(data_train[['Skills','Hardwork']],data_train['Label'])             #fitting  the data or training our model"
   ]
  },
  {
   "cell_type": "code",
   "execution_count": 125,
   "id": "integral-killing",
   "metadata": {},
   "outputs": [
    {
     "data": {
      "text/plain": [
       "array([[75.41692791, 77.21732623],\n",
       "       [57.5780509 , 41.45818985],\n",
       "       [11.78083767, 13.58429689],\n",
       "       [16.68208328, 69.54631944]])"
      ]
     },
     "execution_count": 125,
     "metadata": {},
     "output_type": "execute_result"
    }
   ],
   "source": [
    "km.cluster_centers_                                                    #shows the cartesian coordinates of centeroid of clusters"
   ]
  },
  {
   "cell_type": "markdown",
   "id": "loved-spotlight",
   "metadata": {},
   "source": [
    "* Testing"
   ]
  },
  {
   "cell_type": "code",
   "execution_count": 126,
   "id": "objective-bosnia",
   "metadata": {},
   "outputs": [],
   "source": [
    "data_predict=km.predict(data_test[['Skills','Hardwork']])                  #predicting labels for testing dataset"
   ]
  },
  {
   "cell_type": "code",
   "execution_count": 127,
   "id": "sustained-triple",
   "metadata": {},
   "outputs": [
    {
     "data": {
      "text/plain": [
       "(92,)"
      ]
     },
     "execution_count": 127,
     "metadata": {},
     "output_type": "execute_result"
    }
   ],
   "source": [
    "data_predict.shape"
   ]
  },
  {
   "cell_type": "code",
   "execution_count": 128,
   "id": "sitting-senior",
   "metadata": {},
   "outputs": [
    {
     "data": {
      "image/png": "[encoded data removed]",
      "text/plain": [
       "<Figure size 432x288 with 1 Axes>"
      ]
     },
     "metadata": {
      "needs_background": "light"
     },
     "output_type": "display_data"
    }
   ],
   "source": [
    "plt.scatter(data_test['Skills'],data_test['Hardwork'],data_predict==0,color='red')    #plotting scatterplot for testing dataset\n",
    "plt.scatter(data_test['Skills'],data_test['Hardwork'],data_predict==1,color='blue')\n",
    "plt.scatter(data_test['Skills'],data_test['Hardwork'],data_predict==2,color='green')\n",
    "plt.scatter(data_test['Skills'],data_test['Hardwork'],data_predict==3,color='orange')\n",
    "plt.xlabel('Skills')\n",
    "plt.ylabel('Hardwork')\n",
    "plt.scatter(km.cluster_centers_[:,0],km.cluster_centers_[:,1],color='black',marker='*')\n",
    "plt.show()"
   ]
  },
  {
   "cell_type": "code",
   "execution_count": 142,
   "id": "ongoing-navigator",
   "metadata": {},
   "outputs": [
    {
     "name": "stderr",
     "output_type": "stream",
     "text": [
      "c:\\users\\brijesh\\appdata\\local\\programs\\python\\python39\\lib\\site-packages\\pandas\\core\\generic.py:5491: SettingWithCopyWarning: \n",
      "A value is trying to be set on a copy of a slice from a DataFrame.\n",
      "Try using .loc[row_indexer,col_indexer] = value instead\n",
      "\n",
      "See the caveats in the documentation: https://pandas.pydata.org/pandas-docs/stable/user_guide/indexing.html#returning-a-view-versus-a-copy\n",
      "  self[name] = value\n"
     ]
    },
    {
     "data": {
      "text/html": [
       "<div>\n",
       "<style scoped>\n",
       "    .dataframe tbody tr th:only-of-type {\n",
       "        vertical-align: middle;\n",
       "    }\n",
       "\n",
       "    .dataframe tbody tr th {\n",
       "        vertical-align: top;\n",
       "    }\n",
       "\n",
       "    .dataframe thead th {\n",
       "        text-align: right;\n",
       "    }\n",
       "</style>\n",
       "<table border=\"1\" class=\"dataframe\">\n",
       "  <thead>\n",
       "    <tr style=\"text-align: right;\">\n",
       "      <th></th>\n",
       "      <th>Hardwork</th>\n",
       "      <th>Skills</th>\n",
       "      <th>Label</th>\n",
       "    </tr>\n",
       "  </thead>\n",
       "  <tbody>\n",
       "    <tr>\n",
       "      <th>277</th>\n",
       "      <td>67.924454</td>\n",
       "      <td>11.873769</td>\n",
       "      <td>3</td>\n",
       "    </tr>\n",
       "    <tr>\n",
       "      <th>101</th>\n",
       "      <td>15.797210</td>\n",
       "      <td>15.721221</td>\n",
       "      <td>2</td>\n",
       "    </tr>\n",
       "    <tr>\n",
       "      <th>112</th>\n",
       "      <td>14.803757</td>\n",
       "      <td>11.518968</td>\n",
       "      <td>2</td>\n",
       "    </tr>\n",
       "    <tr>\n",
       "      <th>391</th>\n",
       "      <td>5.342187</td>\n",
       "      <td>7.830898</td>\n",
       "      <td>2</td>\n",
       "    </tr>\n",
       "    <tr>\n",
       "      <th>242</th>\n",
       "      <td>8.723537</td>\n",
       "      <td>11.821286</td>\n",
       "      <td>2</td>\n",
       "    </tr>\n",
       "    <tr>\n",
       "      <th>...</th>\n",
       "      <td>...</td>\n",
       "      <td>...</td>\n",
       "      <td>...</td>\n",
       "    </tr>\n",
       "    <tr>\n",
       "      <th>7</th>\n",
       "      <td>23.826756</td>\n",
       "      <td>56.802663</td>\n",
       "      <td>1</td>\n",
       "    </tr>\n",
       "    <tr>\n",
       "      <th>443</th>\n",
       "      <td>53.461534</td>\n",
       "      <td>67.800083</td>\n",
       "      <td>1</td>\n",
       "    </tr>\n",
       "    <tr>\n",
       "      <th>321</th>\n",
       "      <td>37.894186</td>\n",
       "      <td>72.425093</td>\n",
       "      <td>1</td>\n",
       "    </tr>\n",
       "    <tr>\n",
       "      <th>26</th>\n",
       "      <td>45.296165</td>\n",
       "      <td>66.873110</td>\n",
       "      <td>1</td>\n",
       "    </tr>\n",
       "    <tr>\n",
       "      <th>279</th>\n",
       "      <td>72.121733</td>\n",
       "      <td>16.482607</td>\n",
       "      <td>3</td>\n",
       "    </tr>\n",
       "  </tbody>\n",
       "</table>\n",
       "<p>92 rows × 3 columns</p>\n",
       "</div>"
      ],
      "text/plain": [
       "      Hardwork     Skills  Label\n",
       "277  67.924454  11.873769      3\n",
       "101  15.797210  15.721221      2\n",
       "112  14.803757  11.518968      2\n",
       "391   5.342187   7.830898      2\n",
       "242   8.723537  11.821286      2\n",
       "..         ...        ...    ...\n",
       "7    23.826756  56.802663      1\n",
       "443  53.461534  67.800083      1\n",
       "321  37.894186  72.425093      1\n",
       "26   45.296165  66.873110      1\n",
       "279  72.121733  16.482607      3\n",
       "\n",
       "[92 rows x 3 columns]"
      ]
     },
     "execution_count": 142,
     "metadata": {},
     "output_type": "execute_result"
    }
   ],
   "source": [
    "from sklearn.preprocessing import LabelEncoder \n",
    "l1 = LabelEncoder()                     #Label encoding as string type label cannot be compared with int type predicted cluster\n",
    "l1.fit(data_test['Label'])\n",
    "data_test.Label = l1.transform(data_test.Label)\n",
    "data_test"
   ]
  },
  {
   "cell_type": "code",
   "execution_count": 141,
   "id": "chief-maldives",
   "metadata": {},
   "outputs": [
    {
     "data": {
      "text/plain": [
       "0.8695652173913043"
      ]
     },
     "execution_count": 141,
     "metadata": {},
     "output_type": "execute_result"
    }
   ],
   "source": [
    "from sklearn import metrics                                           #Testing accuracies\n",
    "score = metrics.accuracy_score(data_test['Label'],data_predict)\n",
    "score"
   ]
  },
  {
   "cell_type": "markdown",
   "id": "sapphire-philippines",
   "metadata": {},
   "source": [
    "# THE END"
   ]
  }
 ],
 "metadata": {
  "kernelspec": {
   "display_name": "Python 3",
   "language": "python",
   "name": "python3"
  },
  "language_info": {
   "codemirror_mode": {
    "name": "ipython",
    "version": 3
   },
   "file_extension": ".py",
   "mimetype": "text/x-python",
   "name": "python",
   "nbconvert_exporter": "python",
   "pygments_lexer": "ipython3",
   "version": "3.9.1"
  }
 },
 "nbformat": 4,
 "nbformat_minor": 5
}
